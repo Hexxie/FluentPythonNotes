{
 "cells": [
  {
   "cell_type": "markdown",
   "id": "f099aaee",
   "metadata": {},
   "source": [
    "# The Python Data Model"
   ]
  },
  {
   "cell_type": "code",
   "execution_count": null,
   "id": "cf147a84",
   "metadata": {},
   "outputs": [],
   "source": [
    "## A Pythonic Card Deck"
   ]
  },
  {
   "cell_type": "code",
   "execution_count": null,
   "id": "86def1cc",
   "metadata": {},
   "outputs": [],
   "source": [
    "## How Special Methods are used"
   ]
  },
  {
   "cell_type": "code",
   "execution_count": null,
   "id": "f646d21b",
   "metadata": {},
   "outputs": [],
   "source": [
    "### Emulating numberic types"
   ]
  },
  {
   "cell_type": "code",
   "execution_count": null,
   "id": "d471767d",
   "metadata": {},
   "outputs": [],
   "source": [
    "### String representation"
   ]
  },
  {
   "cell_type": "code",
   "execution_count": null,
   "id": "24f319b4",
   "metadata": {},
   "outputs": [],
   "source": [
    "### Boolean Value of a Custom Type"
   ]
  },
  {
   "cell_type": "code",
   "execution_count": null,
   "id": "d19855b0",
   "metadata": {},
   "outputs": [],
   "source": [
    "### Collection API"
   ]
  },
  {
   "cell_type": "code",
   "execution_count": null,
   "id": "1c087ec6",
   "metadata": {},
   "outputs": [],
   "source": [
    "## Overview of Special Methods"
   ]
  },
  {
   "cell_type": "code",
   "execution_count": null,
   "id": "b33e3f81",
   "metadata": {},
   "outputs": [],
   "source": [
    "## Why len is not a method"
   ]
  }
 ],
 "metadata": {
  "kernelspec": {
   "display_name": "Python 3 (ipykernel)",
   "language": "python",
   "name": "python3"
  },
  "language_info": {
   "codemirror_mode": {
    "name": "ipython",
    "version": 3
   },
   "file_extension": ".py",
   "mimetype": "text/x-python",
   "name": "python",
   "nbconvert_exporter": "python",
   "pygments_lexer": "ipython3",
   "version": "3.11.8"
  }
 },
 "nbformat": 4,
 "nbformat_minor": 5
}
