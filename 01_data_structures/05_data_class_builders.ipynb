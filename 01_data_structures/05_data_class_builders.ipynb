{
 "cells": [
  {
   "cell_type": "markdown",
   "id": "8df057bd",
   "metadata": {},
   "source": [
    "# Data Class Builders"
   ]
  },
  {
   "cell_type": "markdown",
   "id": "7f07935f",
   "metadata": {},
   "source": [
    "Спрощує створення класів призначених для зберігання даних. Автоматично генерує `__init__`, `__eq__`, `__repr__` та інші. \n",
    "\n",
    "[Посилання на розділ](https://learning.oreilly.com/library/view/fluent-python-2nd/9781492056348/ch05.html#idm46582452300336)"
   ]
  },
  {
   "cell_type": "markdown",
   "id": "8df4b94b",
   "metadata": {},
   "source": [
    "### Що ми розглянемо?"
   ]
  },
  {
   "cell_type": "markdown",
   "id": "c9ec858a",
   "metadata": {},
   "source": [
    "У цьому розділі пояснюється три способи створювати класи для зберігання даних у Python:\n",
    "\n",
    "`collections.namedtuple`\n",
    "– Найстаріший спосіб (із Python 2.6). Дозволяє створити простий і легкий клас для даних без додаткових фіч.\n",
    "\n",
    "`typing.NamedTuple`\n",
    "– Схожий на namedtuple, але з підтримкою type hints і можливістю описувати поля через синтаксис класів (із Python 3.5, оновлений у 3.6).\n",
    "\n",
    "`@dataclasses.dataclass`\n",
    "– Найпотужніший і найзручніший спосіб (із Python 3.7). Дає багато можливостей для кастомізації, наприклад, незмінюваність (frozen), значення за замовчуванням, автоматичне створення методів тощо.\n",
    "\n",
    "Після цього автор розгляне концепцію “Data Class” як code smell — коли клас лише зберігає дані, але не містить логіки. Це вважається ознакою поганого дизайну в об’єктно-орієнтованому програмуванні."
   ]
  },
  {
   "cell_type": "markdown",
   "id": "a892db07",
   "metadata": {},
   "source": [
    "## Data class builders Overview 25.08"
   ]
  },
  {
   "cell_type": "markdown",
   "id": "305cd5c1",
   "metadata": {},
   "source": [
    "#### Coordinate class build with simple class"
   ]
  },
  {
   "cell_type": "markdown",
   "id": "7a01184d",
   "metadata": {},
   "source": [
    "collections.namedtuple"
   ]
  },
  {
   "cell_type": "code",
   "execution_count": 2,
   "id": "607b887c",
   "metadata": {},
   "outputs": [],
   "source": [
    "class Coordinate:\n",
    "    def __init__(self, lat, lon):\n",
    "        self.lat = lat\n",
    "        self.lon = lon"
   ]
  },
  {
   "cell_type": "markdown",
   "id": "7dfa7d51",
   "metadata": {},
   "source": [
    "`__repr__` inherited from object is not very helpful"
   ]
  },
  {
   "cell_type": "code",
   "execution_count": 3,
   "id": "0647ea66",
   "metadata": {},
   "outputs": [
    {
     "data": {
      "text/plain": [
       "<__main__.Coordinate at 0x1063a4790>"
      ]
     },
     "execution_count": 3,
     "metadata": {},
     "output_type": "execute_result"
    }
   ],
   "source": [
    "kyiv = Coordinate(55.76, 37.62)\n",
    "kyiv"
   ]
  },
  {
   "cell_type": "code",
   "execution_count": 4,
   "id": "0b7e9aaa",
   "metadata": {},
   "outputs": [
    {
     "data": {
      "text/plain": [
       "<__main__.Coordinate at 0x10663bb50>"
      ]
     },
     "execution_count": 4,
     "metadata": {},
     "output_type": "execute_result"
    }
   ],
   "source": [
    "location = Coordinate(55.76, 37.62)\n",
    "location"
   ]
  },
  {
   "cell_type": "markdown",
   "id": "d7783a7a",
   "metadata": {},
   "source": [
    "the `__eq__` method inherited from object compares object IDs"
   ]
  },
  {
   "cell_type": "code",
   "execution_count": 5,
   "id": "8869c2e4",
   "metadata": {},
   "outputs": [
    {
     "data": {
      "text/plain": [
       "False"
      ]
     },
     "execution_count": 5,
     "metadata": {},
     "output_type": "execute_result"
    }
   ],
   "source": [
    "location == kyiv"
   ]
  },
  {
   "cell_type": "code",
   "execution_count": 6,
   "id": "da9b0858",
   "metadata": {},
   "outputs": [
    {
     "data": {
      "text/plain": [
       "True"
      ]
     },
     "execution_count": 6,
     "metadata": {},
     "output_type": "execute_result"
    }
   ],
   "source": [
    "(location.lat, location.lon) == (kyiv.lat, kyiv.lon)"
   ]
  },
  {
   "cell_type": "markdown",
   "id": "72f990bb",
   "metadata": {},
   "source": [
    "#### Coordinate class build with data class"
   ]
  },
  {
   "cell_type": "markdown",
   "id": "980bb611",
   "metadata": {},
   "source": [
    "This is an example of namedtuple (the older one)"
   ]
  },
  {
   "cell_type": "code",
   "execution_count": 9,
   "id": "dfa20d85",
   "metadata": {},
   "outputs": [
    {
     "data": {
      "text/plain": [
       "True"
      ]
     },
     "execution_count": 9,
     "metadata": {},
     "output_type": "execute_result"
    }
   ],
   "source": [
    "from collections import namedtuple\n",
    "Coordinate = namedtuple('Coordinate', 'lat lon')\n",
    "issubclass(Coordinate, tuple)"
   ]
  },
  {
   "cell_type": "code",
   "execution_count": 11,
   "id": "8dfb1224",
   "metadata": {},
   "outputs": [
    {
     "data": {
      "text/plain": [
       "Coordinate(lat=55.756, lon=37.617)"
      ]
     },
     "execution_count": 11,
     "metadata": {},
     "output_type": "execute_result"
    }
   ],
   "source": [
    "kyiv = Coordinate(55.756, 37.617)\n",
    "kyiv"
   ]
  },
  {
   "cell_type": "code",
   "execution_count": 12,
   "id": "197c0b71",
   "metadata": {},
   "outputs": [
    {
     "data": {
      "text/plain": [
       "Coordinate(lat=55.756, lon=37.617)"
      ]
     },
     "execution_count": 12,
     "metadata": {},
     "output_type": "execute_result"
    }
   ],
   "source": [
    "location = Coordinate(55.756, 37.617)\n",
    "location"
   ]
  },
  {
   "cell_type": "code",
   "execution_count": 13,
   "id": "3cfa7935",
   "metadata": {},
   "outputs": [
    {
     "data": {
      "text/plain": [
       "True"
      ]
     },
     "execution_count": 13,
     "metadata": {},
     "output_type": "execute_result"
    }
   ],
   "source": [
    "kyiv == location"
   ]
  },
  {
   "cell_type": "markdown",
   "id": "63ede85e",
   "metadata": {},
   "source": [
    "#### Lets rewrite this with newer named tuple:"
   ]
  },
  {
   "cell_type": "code",
   "execution_count": 19,
   "id": "c2cda1dc",
   "metadata": {},
   "outputs": [
    {
     "data": {
      "text/plain": [
       "True"
      ]
     },
     "execution_count": 19,
     "metadata": {},
     "output_type": "execute_result"
    }
   ],
   "source": [
    "import typing\n",
    "Coordinate = typing.NamedTuple('Coordinate', lat=float, lon=float)\n",
    "issubclass(Coordinate, tuple)"
   ]
  },
  {
   "cell_type": "code",
   "execution_count": 15,
   "id": "f84a3294",
   "metadata": {},
   "outputs": [
    {
     "data": {
      "text/plain": [
       "{'lat': float, 'lon': float}"
      ]
     },
     "execution_count": 15,
     "metadata": {},
     "output_type": "execute_result"
    }
   ],
   "source": [
    "typing.get_type_hints(Coordinate)"
   ]
  },
  {
   "cell_type": "code",
   "execution_count": 20,
   "id": "5d5cd67d",
   "metadata": {},
   "outputs": [
    {
     "data": {
      "text/plain": [
       "True"
      ]
     },
     "execution_count": 20,
     "metadata": {},
     "output_type": "execute_result"
    }
   ],
   "source": [
    "kyiv = Coordinate(55.756, 37.617)\n",
    "location = Coordinate(55.756, 37.617)\n",
    "kyiv == location"
   ]
  },
  {
   "cell_type": "markdown",
   "id": "1a896752",
   "metadata": {},
   "source": [
    "Also it can be used in a class statement:"
   ]
  },
  {
   "cell_type": "code",
   "execution_count": 23,
   "id": "4c37f63f",
   "metadata": {},
   "outputs": [],
   "source": [
    "from typing import NamedTuple\n",
    "\n",
    "class CoordinateClass(NamedTuple):\n",
    "    lat: float\n",
    "    lon: float"
   ]
  },
  {
   "cell_type": "code",
   "execution_count": 24,
   "id": "49c09c6c",
   "metadata": {},
   "outputs": [
    {
     "data": {
      "text/plain": [
       "True"
      ]
     },
     "execution_count": 24,
     "metadata": {},
     "output_type": "execute_result"
    }
   ],
   "source": [
    "kyiv = CoordinateClass(55.756, 37.617)\n",
    "location = CoordinateClass(55.756, 37.617)\n",
    "kyiv == location"
   ]
  },
  {
   "cell_type": "markdown",
   "id": "202b1d2e",
   "metadata": {},
   "source": [
    "typing.NamedTuple uses the advanced functionality of metaclass (chapter 24) to customize the creation of the user's class, so"
   ]
  },
  {
   "cell_type": "code",
   "execution_count": 25,
   "id": "b76bb0c4",
   "metadata": {},
   "outputs": [
    {
     "data": {
      "text/plain": [
       "True"
      ]
     },
     "execution_count": 25,
     "metadata": {},
     "output_type": "execute_result"
    }
   ],
   "source": [
    "issubclass(CoordinateClass, tuple)"
   ]
  },
  {
   "cell_type": "markdown",
   "id": "a62ea365",
   "metadata": {},
   "source": [
    "#### And the very new decorator @dataclass:"
   ]
  },
  {
   "cell_type": "code",
   "execution_count": 27,
   "id": "c999f1b8",
   "metadata": {},
   "outputs": [],
   "source": [
    "from dataclasses import dataclass\n",
    "\n",
    "@dataclass(frozen=True)\n",
    "class CoordinateDataClass:\n",
    "    lat: float\n",
    "    lon: float"
   ]
  },
  {
   "cell_type": "code",
   "execution_count": 28,
   "id": "ecd9349d",
   "metadata": {},
   "outputs": [
    {
     "data": {
      "text/plain": [
       "True"
      ]
     },
     "execution_count": 28,
     "metadata": {},
     "output_type": "execute_result"
    }
   ],
   "source": [
    "kyiv = CoordinateClass(55.756, 37.617)\n",
    "location = CoordinateClass(55.756, 37.617)\n",
    "kyiv == location"
   ]
  },
  {
   "cell_type": "code",
   "execution_count": 29,
   "id": "6e9253db",
   "metadata": {},
   "outputs": [
    {
     "data": {
      "text/plain": [
       "True"
      ]
     },
     "execution_count": 29,
     "metadata": {},
     "output_type": "execute_result"
    }
   ],
   "source": [
    "issubclass(CoordinateClass, tuple)"
   ]
  },
  {
   "cell_type": "markdown",
   "id": "ac47cd31",
   "metadata": {},
   "source": [
    "### Схожості і відмінності"
   ]
  },
  {
   "cell_type": "markdown",
   "id": "8e5b08e2",
   "metadata": {},
   "source": [
    "#### Mutability  \n",
    "\n",
    "collections and typing - immutable   \n",
    "@dataclass - mutable  \n",
    "\n",
    "#### Class statement  \n",
    "\n",
    "typing and @dataclass - підтримують класи  \n",
    "collections - не підтримує, на то вони і collections  \n",
    "\n",
    "#### Construct a dict\n",
    "Всі три мають можливість конструювання словника.  \n",
    "collections and typing роблять це як `._asdict`  \n",
    "dataclass має функцію `dataclasses.asdict`  \n",
    "\n",
    "#### Get field names and default values\n",
    "Всі три можуть повернути імена полів і додати значення по замовченню  \n",
    "\n",
    "\n",
    "#### Get field types\n",
    "typing і @dataclass можуть повернути типи полів  \n",
    "\n",
    "\n",
    "#### New instance with changes\n",
    "Всі три досволяють створити новий екземпляр зі змінами  \n",
    "\n",
    "#### New class at runtime\n",
    "collections.namedtuple - створить новий клас або кортеж в рантаймі для collections and typing  \n",
    "make_dataclass - для @dataclass"
   ]
  },
  {
   "cell_type": "markdown",
   "id": "5acd241b",
   "metadata": {},
   "source": [
    "## Classic Named Tuples 25.08"
   ]
  },
  {
   "cell_type": "markdown",
   "id": "df13dba9",
   "metadata": {},
   "source": [
    "`collections.namedtuple` це factory яка створює підклас кортежу розширений імʼям поля, класу і інформативним `__repr__`\n",
    "\n",
    "Ознайомитися з реалізацією можна в cpython: `Lib/collections/__init__.py`"
   ]
  },
  {
   "cell_type": "markdown",
   "id": "ef25b203",
   "metadata": {},
   "source": [
    "### Приклади"
   ]
  },
  {
   "cell_type": "code",
   "execution_count": 34,
   "id": "9c17a79a",
   "metadata": {},
   "outputs": [
    {
     "data": {
      "text/plain": [
       "City(name='Tokyo', country='JP', population=36.933, coordinates=(35.68, 139.69))"
      ]
     },
     "execution_count": 34,
     "metadata": {},
     "output_type": "execute_result"
    }
   ],
   "source": [
    "from collections import namedtuple\n",
    "City = namedtuple('City', 'name country population coordinates')\n",
    "tokyo = City('Tokyo', 'JP', 36.933, (35.68, 139.69))\n",
    "tokyo"
   ]
  },
  {
   "cell_type": "markdown",
   "id": "c6a0e6fd",
   "metadata": {},
   "source": [
    "Робота з екземпляром"
   ]
  },
  {
   "cell_type": "code",
   "execution_count": 35,
   "id": "0d8d3045",
   "metadata": {},
   "outputs": [
    {
     "data": {
      "text/plain": [
       "36.933"
      ]
     },
     "execution_count": 35,
     "metadata": {},
     "output_type": "execute_result"
    }
   ],
   "source": [
    "tokyo.population"
   ]
  },
  {
   "cell_type": "code",
   "execution_count": 36,
   "id": "166c2758",
   "metadata": {},
   "outputs": [
    {
     "data": {
      "text/plain": [
       "(35.68, 139.69)"
      ]
     },
     "execution_count": 36,
     "metadata": {},
     "output_type": "execute_result"
    }
   ],
   "source": [
    "tokyo.coordinates"
   ]
  },
  {
   "cell_type": "code",
   "execution_count": 37,
   "id": "42dc17b2",
   "metadata": {},
   "outputs": [
    {
     "data": {
      "text/plain": [
       "'JP'"
      ]
     },
     "execution_count": 37,
     "metadata": {},
     "output_type": "execute_result"
    }
   ],
   "source": [
    "tokyo[1]"
   ]
  },
  {
   "cell_type": "markdown",
   "id": "38dfda46",
   "metadata": {},
   "source": [
    "Робота з кортежем"
   ]
  },
  {
   "cell_type": "code",
   "execution_count": 38,
   "id": "9a560521",
   "metadata": {},
   "outputs": [
    {
     "data": {
      "text/plain": [
       "('name', 'country', 'population', 'coordinates')"
      ]
     },
     "execution_count": 38,
     "metadata": {},
     "output_type": "execute_result"
    }
   ],
   "source": [
    "City._fields"
   ]
  },
  {
   "cell_type": "markdown",
   "id": "b0bc9eb2",
   "metadata": {},
   "source": [
    "## Typed Named Tuples 26.08"
   ]
  },
  {
   "cell_type": "markdown",
   "id": "311047b7",
   "metadata": {},
   "source": [
    "typing.NamedTuple"
   ]
  },
  {
   "cell_type": "markdown",
   "id": "61b8ffa0",
   "metadata": {},
   "source": [
    "## More About @dataclass 26.08"
   ]
  },
  {
   "cell_type": "markdown",
   "id": "a175a79d",
   "metadata": {},
   "source": [
    "## Data Class as Code Smell 27.08"
   ]
  },
  {
   "cell_type": "markdown",
   "id": "6adc2af8",
   "metadata": {},
   "source": [
    "## Pattern Matching Class Instances 27.08"
   ]
  },
  {
   "cell_type": "markdown",
   "id": "1f397a5c",
   "metadata": {},
   "source": [
    "## Приклади з Flask або Django 28.08"
   ]
  },
  {
   "cell_type": "markdown",
   "id": "c711a783",
   "metadata": {},
   "source": [
    "## Summary і підготовка відео з розбором 29.08 пт"
   ]
  },
  {
   "cell_type": "code",
   "execution_count": null,
   "id": "40904faf",
   "metadata": {},
   "outputs": [],
   "source": [
    "Спочатку розповісти що це і показати в фреймворках де зустрічається і чому.\n",
    "Потім вже досліджувати що це більш детально"
   ]
  }
 ],
 "metadata": {
  "kernelspec": {
   "display_name": "Python 3 (ipykernel)",
   "language": "python",
   "name": "python3"
  },
  "language_info": {
   "codemirror_mode": {
    "name": "ipython",
    "version": 3
   },
   "file_extension": ".py",
   "mimetype": "text/x-python",
   "name": "python",
   "nbconvert_exporter": "python",
   "pygments_lexer": "ipython3",
   "version": "3.11.8"
  }
 },
 "nbformat": 4,
 "nbformat_minor": 5
}
