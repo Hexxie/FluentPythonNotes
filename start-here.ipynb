{
 "cells": [
  {
   "cell_type": "markdown",
   "id": "3070d7da",
   "metadata": {},
   "source": [
    "# Start here"
   ]
  },
  {
   "cell_type": "markdown",
   "id": "31b2b1a4-eafb-4533-b88c-840b4df96cb1",
   "metadata": {},
   "source": [
    "These notebooks support Python kernel and C kernel - to investigate both part of python language. To run the code change kernels in the menu of the notebook"
   ]
  },
  {
   "cell_type": "code",
   "execution_count": 1,
   "id": "73737135-6b08-4cd8-86f2-f37fb2a4533b",
   "metadata": {},
   "outputs": [
    {
     "name": "stdout",
     "output_type": "stream",
     "text": [
      "Hello from Python!\n"
     ]
    }
   ],
   "source": [
    "print(\"Hello from Python!\")"
   ]
  },
  {
   "cell_type": "code",
   "execution_count": 1,
   "id": "5ed7186d-782b-4113-ae87-5f65d72cc1f1",
   "metadata": {},
   "outputs": [
    {
     "name": "stdout",
     "output_type": "stream",
     "text": [
      "Hello from C!\n"
     ]
    }
   ],
   "source": [
    "#include <stdio.h>\n",
    "\n",
    "int main() {\n",
    "    printf(\"Hello from C!\\n\");\n",
    "    return 0;\n",
    "}"
   ]
  },
  {
   "cell_type": "markdown",
   "id": "9318d24d-bcd0-41ae-8f56-5206756d6bba",
   "metadata": {},
   "source": [
    "I don't want to follow proposed order of the book, so this randomizer will help me to choose one. From chapter 1 to 24"
   ]
  },
  {
   "cell_type": "code",
   "execution_count": 1,
   "id": "8a96159b-5afd-4e43-9e9e-a3fc3453f787",
   "metadata": {},
   "outputs": [
    {
     "name": "stdout",
     "output_type": "stream",
     "text": [
      "Chapter number: 10\n"
     ]
    }
   ],
   "source": [
    "import random\n",
    "\n",
    "number = random.randint(1, 24)\n",
    "print(\"Chapter number:\", number)"
   ]
  },
  {
   "cell_type": "markdown",
   "id": "fb63586b",
   "metadata": {},
   "source": [
    "Chapter 1: The Python Data Model -> [Link](./01_data_structures/01_the_python_data_model.ipynb)"
   ]
  },
  {
   "cell_type": "markdown",
   "id": "ea2c6008",
   "metadata": {},
   "source": [
    "Chapter 5: Data Class Builders -> [Link](./01_data_structures/05_data_class_builders.ipynb)"
   ]
  },
  {
   "cell_type": "markdown",
   "id": "080d5655",
   "metadata": {},
   "source": [
    "Chapter 10: Design patterns -> [Link](./02_functions_as_objects/10_design_patterns.ipynb)"
   ]
  }
 ],
 "metadata": {
  "kernelspec": {
   "display_name": "Python 3 (ipykernel)",
   "language": "python",
   "name": "python3"
  },
  "language_info": {
   "codemirror_mode": {
    "name": "ipython",
    "version": 3
   },
   "file_extension": ".py",
   "mimetype": "text/x-python",
   "name": "python",
   "nbconvert_exporter": "python",
   "pygments_lexer": "ipython3",
   "version": "3.11.8"
  }
 },
 "nbformat": 4,
 "nbformat_minor": 5
}
