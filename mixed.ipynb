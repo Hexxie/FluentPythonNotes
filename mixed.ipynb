{
 "cells": [
  {
   "cell_type": "markdown",
   "id": "3070d7da",
   "metadata": {},
   "source": [
    "# Mixed"
   ]
  },
  {
   "cell_type": "code",
   "execution_count": 2,
   "id": "73737135-6b08-4cd8-86f2-f37fb2a4533b",
   "metadata": {},
   "outputs": [
    {
     "name": "stderr",
     "output_type": "stream",
     "text": [
      "/var/folders/cn/xlsvlbbd2tzgnpj2qlvj_pqh0000gn/T/tmp91m7_qgh.c:1:7: error: expected parameter declarator\n",
      "    1 | print(\"Hello from Python!\")\n",
      "      |       ^\n",
      "/var/folders/cn/xlsvlbbd2tzgnpj2qlvj_pqh0000gn/T/tmp91m7_qgh.c:1:7: error: expected ')'\n",
      "/var/folders/cn/xlsvlbbd2tzgnpj2qlvj_pqh0000gn/T/tmp91m7_qgh.c:1:6: note: to match this '('\n",
      "    1 | print(\"Hello from Python!\")\n",
      "      |      ^\n",
      "/var/folders/cn/xlsvlbbd2tzgnpj2qlvj_pqh0000gn/T/tmp91m7_qgh.c:1:28: error: expected function body after function declarator\n",
      "    1 | print(\"Hello from Python!\")\n",
      "      |                            ^\n",
      "3 errors generated.\n",
      "[C kernel] GCC exited with code 1, the executable will not be executed"
     ]
    }
   ],
   "source": [
    "print(\"Hello from Python!\")"
   ]
  },
  {
   "cell_type": "code",
   "execution_count": 1,
   "id": "5ed7186d-782b-4113-ae87-5f65d72cc1f1",
   "metadata": {},
   "outputs": [
    {
     "name": "stdout",
     "output_type": "stream",
     "text": [
      "Hello from C!\n"
     ]
    }
   ],
   "source": [
    "#include <stdio.h>\n",
    "\n",
    "int main() {\n",
    "    printf(\"Hello from C!\\n\");\n",
    "    return 0;\n",
    "}"
   ]
  },
  {
   "cell_type": "code",
   "execution_count": null,
   "id": "38427a88-1baf-47a1-8334-c9172000152e",
   "metadata": {},
   "outputs": [],
   "source": []
  }
 ],
 "metadata": {
  "kernelspec": {
   "display_name": "C",
   "language": "c",
   "name": "c"
  },
  "language_info": {
   "file_extension": ".c",
   "mimetype": "text/plain",
   "name": "c"
  }
 },
 "nbformat": 4,
 "nbformat_minor": 5
}
