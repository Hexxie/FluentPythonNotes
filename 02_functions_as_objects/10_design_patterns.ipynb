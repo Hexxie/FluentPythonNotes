{
 "cells": [
  {
   "cell_type": "markdown",
   "id": "c05f804a-759b-4bb4-a4b1-72d1d7df353b",
   "metadata": {},
   "source": [
    "# Design Patterns with First-Class Functions"
   ]
  },
  {
   "cell_type": "markdown",
   "id": "a4003ffa-5fbc-4fb5-8b36-0e14532cc222",
   "metadata": {},
   "source": [
    "The goal of this chapter to show how can we refactor OOP code built with Design Patterns using first-class functions. Which can make code more readable and simpler. The book presents refactoring of Strategy pattern. But I would save the room for myself and hopefully refactor more with time. "
   ]
  },
  {
   "cell_type": "markdown",
   "id": "95a23cad-57fa-466e-b1f9-8f355caf84ae",
   "metadata": {},
   "source": [
    "<Add here UML with Strategy>"
   ]
  },
  {
   "cell_type": "markdown",
   "id": "71982102-b8b5-4601-9fa6-75385e801445",
   "metadata": {},
   "source": [
    "# Strategy Pattern"
   ]
  },
  {
   "cell_type": "markdown",
   "id": "fc145d6e-1273-4d0c-b2ee-5568ab9b121f",
   "metadata": {},
   "source": [
    "[Link to Strategy pattern](https://learning.oreilly.com/library/view/design-patterns-elements/0201633612/ch05.html#page_315) also known as Policy"
   ]
  },
  {
   "cell_type": "markdown",
   "id": "ccbbf203-bb07-49b9-8e08-ef7f6a888f3b",
   "metadata": {},
   "source": [
    "- [named tuples](https://stackoverflow.com/questions/2970608/what-are-named-tuples-in-python)"
   ]
  },
  {
   "cell_type": "code",
   "execution_count": 5,
   "id": "ffa6651b-e491-4fd5-9fb4-59ce32428860",
   "metadata": {},
   "outputs": [],
   "source": [
    "from typing import NamedTuple\n",
    "from decimal import Decimal\n",
    "\n",
    "class Customer(NamedTuple):\n",
    "    name: str\n",
    "    fidelity: str\n",
    "        \n",
    "class LineItem(NamedTuple):\n",
    "    product: str\n",
    "    quantity: int\n",
    "    price: Decimal\n",
    "        \n",
    "    def total(self) -> Decimal:\n",
    "        return self.price * self.quantity\n",
    "    \n",
    "class Order(NamedTuple):\n",
    "    customer: Customer\n",
    "        cart: Sequence[LineItem]\n",
    "        promotion: Optional['Promotion'] = None"
   ]
  },
  {
   "cell_type": "markdown",
   "id": "c87a1ccc",
   "metadata": {},
   "source": [
    "Joe has 0 fidelity pointsm Ann has 1100"
   ]
  },
  {
   "cell_type": "code",
   "execution_count": 2,
   "id": "775d2ee3-c593-4de5-82e5-d5ee8f9c157d",
   "metadata": {},
   "outputs": [],
   "source": [
    "joe = Customer('John Doe', 0)"
   ]
  },
  {
   "cell_type": "code",
   "execution_count": 3,
   "id": "8eb57016-e685-4018-9498-581f1cdde7c4",
   "metadata": {},
   "outputs": [],
   "source": [
    "ann = Customer('Ann Smith', 1100)"
   ]
  },
  {
   "cell_type": "markdown",
   "id": "d03cf3a1",
   "metadata": {},
   "source": [
    "One shopping cart with three line items."
   ]
  },
  {
   "cell_type": "code",
   "execution_count": 6,
   "id": "647759c5-c5d0-4f06-a451-03206d321dc2",
   "metadata": {},
   "outputs": [],
   "source": [
    "cart = (LineItem('banana', 4, Decimal('.5')),\n",
    "        LineItem('apple', 10, Decimal('1.5')),\n",
    "        LineItem('watermelon', 5, Decimal('5')))"
   ]
  },
  {
   "cell_type": "code",
   "execution_count": 7,
   "id": "cbb376d0",
   "metadata": {},
   "outputs": [
    {
     "ename": "NameError",
     "evalue": "name 'Order' is not defined",
     "output_type": "error",
     "traceback": [
      "\u001b[0;31m---------------------------------------------------------------------------\u001b[0m",
      "\u001b[0;31mNameError\u001b[0m                                 Traceback (most recent call last)",
      "Cell \u001b[0;32mIn[7], line 1\u001b[0m\n\u001b[0;32m----> 1\u001b[0m Order(joe, cart, FidelityPromo())\n",
      "\u001b[0;31mNameError\u001b[0m: name 'Order' is not defined"
     ]
    }
   ],
   "source": [
    "Order(joe, cart, FidelityPromo())"
   ]
  },
  {
   "cell_type": "code",
   "execution_count": null,
   "id": "81968220",
   "metadata": {},
   "outputs": [],
   "source": []
  }
 ],
 "metadata": {
  "kernelspec": {
   "display_name": "Python 3 (ipykernel)",
   "language": "python",
   "name": "python3"
  },
  "language_info": {
   "codemirror_mode": {
    "name": "ipython",
    "version": 3
   },
   "file_extension": ".py",
   "mimetype": "text/x-python",
   "name": "python",
   "nbconvert_exporter": "python",
   "pygments_lexer": "ipython3",
   "version": "3.11.8"
  }
 },
 "nbformat": 4,
 "nbformat_minor": 5
}
